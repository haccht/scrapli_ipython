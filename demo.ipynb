{
 "cells": [
  {
   "cell_type": "code",
   "execution_count": 1,
   "id": "ff44ac82-66e0-4b5d-81e9-ca6f150d31b7",
   "metadata": {},
   "outputs": [
    {
     "name": "stdout",
     "output_type": "stream",
     "text": [
      "Collecting git+https://github.com/haccht/scrapli_ipython\n",
      "  Cloning https://github.com/haccht/scrapli_ipython to /tmp/pip-req-build-6_jfkoma\n",
      "  Running command git clone --filter=blob:none --quiet https://github.com/haccht/scrapli_ipython /tmp/pip-req-build-6_jfkoma\n",
      "  Resolved https://github.com/haccht/scrapli_ipython to commit 1689bdeaa7126a06c2dc95beb17f9ce8e2539728\n",
      "  Preparing metadata (setup.py) ... \u001b[?25ldone\n",
      "\u001b[?25hCollecting scrapli[ssh2]\n",
      "  Using cached scrapli-2022.7.30.post1-py3-none-any.whl (138 kB)\n",
      "Collecting ntc_templates\n",
      "  Using cached ntc_templates-3.1.0-py3-none-any.whl (332 kB)\n",
      "Collecting textfsm<2.0.0,>=1.1.0\n",
      "  Using cached textfsm-1.1.3-py2.py3-none-any.whl (44 kB)\n",
      "Collecting ssh2-python>=0.23.0\n",
      "  Using cached ssh2_python-1.0.0-cp310-cp310-manylinux_2_17_x86_64.manylinux2014_x86_64.whl (3.5 MB)\n",
      "Requirement already satisfied: six in /opt/conda/lib/python3.10/site-packages (from textfsm<2.0.0,>=1.1.0->ntc_templates->scrapli-ipython==0.0.1) (1.16.0)\n",
      "Collecting future\n",
      "  Using cached future-0.18.2-py3-none-any.whl\n",
      "Building wheels for collected packages: scrapli-ipython\n",
      "  Building wheel for scrapli-ipython (setup.py) ... \u001b[?25ldone\n",
      "\u001b[?25h  Created wheel for scrapli-ipython: filename=scrapli_ipython-0.0.1-py3-none-any.whl size=3419 sha256=efb3b95f7e176a881995575b659419a8fae6ee69cea25c2960f21fd6504b0cfe\n",
      "  Stored in directory: /tmp/pip-ephem-wheel-cache-lf5dk8b4/wheels/03/4e/5e/bdaf8b4c75fd5ab6c7e7b6a3c094141eb505378915586f6921\n",
      "Successfully built scrapli-ipython\n",
      "Installing collected packages: ssh2-python, scrapli, future, textfsm, ntc_templates, scrapli-ipython\n",
      "Successfully installed future-0.18.2 ntc_templates-3.1.0 scrapli-2022.7.30.post1 scrapli-ipython-0.0.1 ssh2-python-1.0.0 textfsm-1.1.3\n",
      "Note: you may need to restart the kernel to use updated packages.\n"
     ]
    }
   ],
   "source": [
    "%pip install git+https://github.com/haccht/scrapli_ipython\n",
    "%reload_ext scrapli_ipython"
   ]
  },
  {
   "cell_type": "markdown",
   "id": "eeaa107e-0406-44e7-aa83-131699337ba3",
   "metadata": {},
   "source": [
    "You can establish a connection to a device with `%scrapli` line magic."
   ]
  },
  {
   "cell_type": "code",
   "execution_count": 2,
   "id": "3eed76a6-d1a8-4b48-9bad-290f1b8bc5c3",
   "metadata": {},
   "outputs": [
    {
     "name": "stdin",
     "output_type": "stream",
     "text": [
      "Username: vagrant\n",
      "Password: ········\n"
     ]
    }
   ],
   "source": [
    "%scrapli --platform cisco_iosxr 192.168.121.105"
   ]
  },
  {
   "cell_type": "markdown",
   "id": "8eb62a52-ae15-43ba-8883-82c975149104",
   "metadata": {},
   "source": [
    "`%%cmd` cell magic allows you to execute all commands in the cell."
   ]
  },
  {
   "cell_type": "code",
   "execution_count": 3,
   "id": "cc4f022a-561f-4428-8325-cf70c2ce8987",
   "metadata": {},
   "outputs": [
    {
     "name": "stdout",
     "output_type": "stream",
     "text": [
      "show interface brief\n",
      "Fri Nov 11 20:21:10.709 UTC\n",
      "\n",
      "               Intf       Intf        LineP              Encap  MTU        BW\n",
      "               Name       State       State               Type (byte)    (Kbps)\n",
      "--------------------------------------------------------------------------------\n",
      "                Nu0          up          up               Null  1500          0\n",
      "       Mg0/0/CPU0/0          up          up               ARPA  1514          0\n",
      "          Gi0/0/0/0  admin-down  admin-down               ARPA  1514    1000000\n",
      "          Gi0/0/0/1  admin-down  admin-down               ARPA  1514    1000000\n",
      "          Gi0/0/0/2  admin-down  admin-down               ARPA  1514    1000000\n",
      "-- \n",
      "show ipv4 interface brief\n",
      "Fri Nov 11 20:21:10.909 UTC\n",
      "\n",
      "Interface                      IP-Address      Status          Protocol Vrf-Name\n",
      "MgmtEth0/0/CPU0/0              192.168.121.105 Up              Up       default\n",
      "GigabitEthernet0/0/0/0         unassigned      Shutdown        Down     default\n",
      "GigabitEthernet0/0/0/1         unassigned      Shutdown        Down     default\n",
      "GigabitEthernet0/0/0/2         unassigned      Shutdown        Down     default\n",
      "\n"
     ]
    }
   ],
   "source": [
    "%%cmd\n",
    "show interface brief\n",
    "show ipv4 interface brief"
   ]
  },
  {
   "cell_type": "markdown",
   "id": "2393e68b-8ab5-4642-ae45-fae5c17c7b53",
   "metadata": {},
   "source": [
    "`%%cmd` cell magic accepts a jinja2 template and execute the rendered commands."
   ]
  },
  {
   "cell_type": "code",
   "execution_count": 4,
   "id": "1518620c-993c-4f27-8a8e-3abeaec2a7c8",
   "metadata": {},
   "outputs": [
    {
     "name": "stdout",
     "output_type": "stream",
     "text": [
      "show interface Gi0/0/0/0\n",
      "Fri Nov 11 20:21:11.109 UTC\n",
      "GigabitEthernet0/0/0/0 is administratively down, line protocol is administratively down\n",
      "  Interface state transitions: 6\n",
      "  Hardware is GigabitEthernet, address is 5254.00dd.7f8c (bia 5254.00dd.7f8c)\n",
      "  Internet address is Unknown\n",
      "  MTU 1514 bytes, BW 1000000 Kbit (Max: 1000000 Kbit)\n",
      "     reliability 255/255, txload 0/255, rxload 0/255\n",
      "  Encapsulation ARPA,\n",
      "  Full-duplex, 1000Mb/s, unknown, link type is force-up\n",
      "  output flow control is off, input flow control is off\n",
      "  Carrier delay (up) is 10 msec\n",
      "  loopback not set,\n",
      "  Last link flapped 00:00:41\n",
      "  Last input 00:00:51, output never\n",
      "  Last clearing of \"show interface\" counters never\n",
      "  5 minute input rate 0 bits/sec, 0 packets/sec\n",
      "  5 minute output rate 0 bits/sec, 0 packets/sec\n",
      "     35297 packets input, 2117820 bytes, 0 total input drops\n",
      "     0 drops for unrecognized upper-level protocol\n",
      "     Received 0 broadcast packets, 35297 multicast packets\n",
      "              0 runts, 0 giants, 0 throttles, 0 parity\n",
      "     0 input errors, 0 CRC, 0 frame, 0 overrun, 0 ignored, 0 abort\n",
      "     0 packets output, 0 bytes, 0 total output drops\n",
      "     Output 0 broadcast packets, 0 multicast packets\n",
      "     0 output errors, 0 underruns, 0 applique, 0 resets\n",
      "     0 output buffer failures, 0 output buffers swapped out\n",
      "     6 carrier transitions\n",
      "-- \n",
      "show interface Gi0/0/0/1\n",
      "Fri Nov 11 20:21:11.309 UTC\n",
      "GigabitEthernet0/0/0/1 is administratively down, line protocol is administratively down\n",
      "  Interface state transitions: 6\n",
      "  Hardware is GigabitEthernet, address is 5254.0024.0b16 (bia 5254.0024.0b16)\n",
      "  Internet address is Unknown\n",
      "  MTU 1514 bytes, BW 1000000 Kbit (Max: 1000000 Kbit)\n",
      "     reliability 255/255, txload 0/255, rxload 0/255\n",
      "  Encapsulation ARPA,\n",
      "  Full-duplex, 1000Mb/s, unknown, link type is force-up\n",
      "  output flow control is off, input flow control is off\n",
      "  Carrier delay (up) is 10 msec\n",
      "  loopback not set,\n",
      "  Last link flapped 00:00:41\n",
      "  Last input 00:00:51, output never\n",
      "  Last clearing of \"show interface\" counters never\n",
      "  5 minute input rate 0 bits/sec, 0 packets/sec\n",
      "  5 minute output rate 0 bits/sec, 0 packets/sec\n",
      "     35297 packets input, 2117820 bytes, 0 total input drops\n",
      "     0 drops for unrecognized upper-level protocol\n",
      "     Received 0 broadcast packets, 35297 multicast packets\n",
      "              0 runts, 0 giants, 0 throttles, 0 parity\n",
      "     0 input errors, 0 CRC, 0 frame, 0 overrun, 0 ignored, 0 abort\n",
      "     0 packets output, 0 bytes, 0 total output drops\n",
      "     Output 0 broadcast packets, 0 multicast packets\n",
      "     0 output errors, 0 underruns, 0 applique, 0 resets\n",
      "     0 output buffer failures, 0 output buffers swapped out\n",
      "     6 carrier transitions\n",
      "-- \n",
      "show interface Gi0/0/0/2\n",
      "Fri Nov 11 20:21:11.579 UTC\n",
      "GigabitEthernet0/0/0/2 is administratively down, line protocol is administratively down\n",
      "  Interface state transitions: 6\n",
      "  Hardware is GigabitEthernet, address is 5254.004a.b1f2 (bia 5254.004a.b1f2)\n",
      "  Internet address is Unknown\n",
      "  MTU 1514 bytes, BW 1000000 Kbit (Max: 1000000 Kbit)\n",
      "     reliability 255/255, txload 0/255, rxload 0/255\n",
      "  Encapsulation ARPA,\n",
      "  Full-duplex, 1000Mb/s, unknown, link type is force-up\n",
      "  output flow control is off, input flow control is off\n",
      "  Carrier delay (up) is 10 msec\n",
      "  loopback not set,\n",
      "  Last link flapped 00:00:42\n",
      "  Last input 00:00:52, output never\n",
      "  Last clearing of \"show interface\" counters never\n",
      "  5 minute input rate 0 bits/sec, 0 packets/sec\n",
      "  5 minute output rate 0 bits/sec, 0 packets/sec\n",
      "     35297 packets input, 2117820 bytes, 0 total input drops\n",
      "     0 drops for unrecognized upper-level protocol\n",
      "     Received 0 broadcast packets, 35297 multicast packets\n",
      "              0 runts, 0 giants, 0 throttles, 0 parity\n",
      "     0 input errors, 0 CRC, 0 frame, 0 overrun, 0 ignored, 0 abort\n",
      "     0 packets output, 0 bytes, 0 total output drops\n",
      "     Output 0 broadcast packets, 0 multicast packets\n",
      "     0 output errors, 0 underruns, 0 applique, 0 resets\n",
      "     0 output buffer failures, 0 output buffers swapped out\n",
      "     6 carrier transitions\n",
      "\n"
     ]
    }
   ],
   "source": [
    "%%cmd resp\n",
    "{% for i in range(3) %}\n",
    "show interface Gi0/0/0/{{i}}\n",
    "{% endfor %}"
   ]
  },
  {
   "cell_type": "markdown",
   "id": "2ae26e74-92a6-4c4e-8b32-6fb675cb61fc",
   "metadata": {},
   "source": [
    "`%%cmd` cell magic can also capture command results as a scrapli MultiReponse, so that you can manupulate them."
   ]
  },
  {
   "cell_type": "code",
   "execution_count": 5,
   "id": "ea8d7e1d-fd33-4653-b0ec-038aea06583d",
   "metadata": {},
   "outputs": [
    {
     "data": {
      "text/plain": [
       "[{'interface': 'GigabitEthernet0/0/0/0',\n",
       "  'link_status': 'administratively down',\n",
       "  'admin_state': 'administratively down',\n",
       "  'hardware_type': 'GigabitEthernet',\n",
       "  'address': '5254.00dd.7f8c',\n",
       "  'bia': '5254.00dd.7f8c',\n",
       "  'description': '',\n",
       "  'ip_address': 'Unknown',\n",
       "  'mtu': '1514',\n",
       "  'duplex': 'Full',\n",
       "  'speed': '1000Mb/s',\n",
       "  'bandwidth': '1000000 Kbit',\n",
       "  'encapsulation': 'ARPA'}]"
      ]
     },
     "execution_count": 5,
     "metadata": {},
     "output_type": "execute_result"
    }
   ],
   "source": [
    "resp[0].textfsm_parse_output()"
   ]
  },
  {
   "cell_type": "markdown",
   "id": "a45ddb15-1125-4659-b3cc-7ad0713d4825",
   "metadata": {},
   "source": [
    "`%%configure` cell magic loads cell contents into the configuration."
   ]
  },
  {
   "cell_type": "code",
   "execution_count": 6,
   "id": "91a8ab77-0e07-4f7a-98b2-674e8420b528",
   "metadata": {},
   "outputs": [
    {
     "name": "stdout",
     "output_type": "stream",
     "text": [
      "no interface Gi0/0/0/0 shutdown\n",
      "\n",
      "no interface Gi0/0/0/1 shutdown\n",
      "\n",
      "no interface Gi0/0/0/2 shutdown\n",
      "\n",
      "show configuration\n",
      "Fri Nov 11 20:21:13.439 UTC\n",
      "Building configuration...\n",
      "!! IOS XR Configuration 5.3.3\n",
      "interface GigabitEthernet0/0/0/0\n",
      " no shutdown\n",
      "!\n",
      "interface GigabitEthernet0/0/0/1\n",
      " no shutdown\n",
      "!\n",
      "interface GigabitEthernet0/0/0/2\n",
      " no shutdown\n",
      "!\n",
      "end\n",
      "commit\n",
      "Fri Nov 11 20:21:13.649 UTC\n",
      "\n"
     ]
    }
   ],
   "source": [
    "%%configure\n",
    "{% for i in range(3) %}\n",
    "no interface Gi0/0/0/{{i}} shutdown\n",
    "{% endfor %}\n",
    "\n",
    "show configuration\n",
    "commit"
   ]
  },
  {
   "cell_type": "markdown",
   "id": "7d4c2f96-5f35-4429-abc4-6038923882a2",
   "metadata": {},
   "source": [
    "Let's validate whether all ports were successfully opened."
   ]
  },
  {
   "cell_type": "code",
   "execution_count": 7,
   "id": "a2e353dd-70ff-4701-93e1-b89d5dd8777e",
   "metadata": {},
   "outputs": [
    {
     "name": "stdout",
     "output_type": "stream",
     "text": [
      "show interface Gi0/0/0/0\n",
      "Fri Nov 11 20:21:14.169 UTC\n",
      "GigabitEthernet0/0/0/0 is up, line protocol is up\n",
      "  Interface state transitions: 7\n",
      "  Hardware is GigabitEthernet, address is 5254.00dd.7f8c (bia 5254.00dd.7f8c)\n",
      "  Internet address is Unknown\n",
      "  MTU 1514 bytes, BW 1000000 Kbit (Max: 1000000 Kbit)\n",
      "     reliability 255/255, txload 0/255, rxload 0/255\n",
      "  Encapsulation ARPA,\n",
      "  Full-duplex, 1000Mb/s, unknown, link type is force-up\n",
      "  output flow control is off, input flow control is off\n",
      "  Carrier delay (up) is 10 msec\n",
      "  loopback not set,\n",
      "  Last link flapped 00:00:01\n",
      "  Last input 00:00:00, output never\n",
      "  Last clearing of \"show interface\" counters never\n",
      "  5 minute input rate 0 bits/sec, 0 packets/sec\n",
      "  5 minute output rate 0 bits/sec, 0 packets/sec\n",
      "     35302 packets input, 2118120 bytes, 0 total input drops\n",
      "     0 drops for unrecognized upper-level protocol\n",
      "     Received 0 broadcast packets, 35302 multicast packets\n",
      "              0 runts, 0 giants, 0 throttles, 0 parity\n",
      "     0 input errors, 0 CRC, 0 frame, 0 overrun, 0 ignored, 0 abort\n",
      "     0 packets output, 0 bytes, 0 total output drops\n",
      "     Output 0 broadcast packets, 0 multicast packets\n",
      "     0 output errors, 0 underruns, 0 applique, 0 resets\n",
      "     0 output buffer failures, 0 output buffers swapped out\n",
      "     7 carrier transitions\n",
      "-- \n",
      "show interface Gi0/0/0/1\n",
      "Fri Nov 11 20:21:14.369 UTC\n",
      "GigabitEthernet0/0/0/1 is up, line protocol is up\n",
      "  Interface state transitions: 7\n",
      "  Hardware is GigabitEthernet, address is 5254.0024.0b16 (bia 5254.0024.0b16)\n",
      "  Internet address is Unknown\n",
      "  MTU 1514 bytes, BW 1000000 Kbit (Max: 1000000 Kbit)\n",
      "     reliability 255/255, txload 0/255, rxload 0/255\n",
      "  Encapsulation ARPA,\n",
      "  Full-duplex, 1000Mb/s, unknown, link type is force-up\n",
      "  output flow control is off, input flow control is off\n",
      "  Carrier delay (up) is 10 msec\n",
      "  loopback not set,\n",
      "  Last link flapped 00:00:01\n",
      "  Last input 00:00:00, output never\n",
      "  Last clearing of \"show interface\" counters never\n",
      "  5 minute input rate 0 bits/sec, 0 packets/sec\n",
      "  5 minute output rate 0 bits/sec, 0 packets/sec\n",
      "     35302 packets input, 2118120 bytes, 0 total input drops\n",
      "     0 drops for unrecognized upper-level protocol\n",
      "     Received 0 broadcast packets, 35302 multicast packets\n",
      "              0 runts, 0 giants, 0 throttles, 0 parity\n",
      "     0 input errors, 0 CRC, 0 frame, 0 overrun, 0 ignored, 0 abort\n",
      "     0 packets output, 0 bytes, 0 total output drops\n",
      "     Output 0 broadcast packets, 0 multicast packets\n",
      "     0 output errors, 0 underruns, 0 applique, 0 resets\n",
      "     0 output buffer failures, 0 output buffers swapped out\n",
      "     7 carrier transitions\n",
      "-- \n",
      "show interface Gi0/0/0/2\n",
      "Fri Nov 11 20:21:14.629 UTC\n",
      "GigabitEthernet0/0/0/2 is up, line protocol is up\n",
      "  Interface state transitions: 7\n",
      "  Hardware is GigabitEthernet, address is 5254.004a.b1f2 (bia 5254.004a.b1f2)\n",
      "  Internet address is Unknown\n",
      "  MTU 1514 bytes, BW 1000000 Kbit (Max: 1000000 Kbit)\n",
      "     reliability 255/255, txload 0/255, rxload 0/255\n",
      "  Encapsulation ARPA,\n",
      "  Full-duplex, 1000Mb/s, unknown, link type is force-up\n",
      "  output flow control is off, input flow control is off\n",
      "  Carrier delay (up) is 10 msec\n",
      "  loopback not set,\n",
      "  Last link flapped 00:00:03\n",
      "  Last input 00:00:00, output never\n",
      "  Last clearing of \"show interface\" counters never\n",
      "  5 minute input rate 0 bits/sec, 0 packets/sec\n",
      "  5 minute output rate 0 bits/sec, 0 packets/sec\n",
      "     35302 packets input, 2118120 bytes, 0 total input drops\n",
      "     0 drops for unrecognized upper-level protocol\n",
      "     Received 0 broadcast packets, 35302 multicast packets\n",
      "              0 runts, 0 giants, 0 throttles, 0 parity\n",
      "     0 input errors, 0 CRC, 0 frame, 0 overrun, 0 ignored, 0 abort\n",
      "     0 packets output, 0 bytes, 0 total output drops\n",
      "     Output 0 broadcast packets, 0 multicast packets\n",
      "     0 output errors, 0 underruns, 0 applique, 0 resets\n",
      "     0 output buffer failures, 0 output buffers swapped out\n",
      "     7 carrier transitions\n",
      "\n"
     ]
    }
   ],
   "source": [
    "%%cmd resp\n",
    "{% for i in range(3) %}\n",
    "show interface Gi0/0/0/{{i}}\n",
    "{% endfor %}"
   ]
  },
  {
   "cell_type": "code",
   "execution_count": 8,
   "id": "040e548c-0b99-4445-bbf7-a548b8607a4d",
   "metadata": {},
   "outputs": [],
   "source": [
    "for i in range(3):\n",
    "    assert 'administratively down' not in resp[i].result, f\"Gi0/0/0/{i} should not be shutdown\""
   ]
  },
  {
   "cell_type": "code",
   "execution_count": 9,
   "id": "46e47600-738d-44d1-9694-babd3be01e65",
   "metadata": {},
   "outputs": [],
   "source": [
    "%close"
   ]
  },
  {
   "cell_type": "code",
   "execution_count": null,
   "id": "03272f08-3690-4568-b517-293daa3088da",
   "metadata": {},
   "outputs": [],
   "source": []
  }
 ],
 "metadata": {
  "kernelspec": {
   "display_name": "Python 3 (ipykernel)",
   "language": "python",
   "name": "python3"
  },
  "language_info": {
   "codemirror_mode": {
    "name": "ipython",
    "version": 3
   },
   "file_extension": ".py",
   "mimetype": "text/x-python",
   "name": "python",
   "nbconvert_exporter": "python",
   "pygments_lexer": "ipython3",
   "version": "3.10.6"
  }
 },
 "nbformat": 4,
 "nbformat_minor": 5
}
